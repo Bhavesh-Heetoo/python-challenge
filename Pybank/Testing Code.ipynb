{
 "cells": [
  {
   "cell_type": "code",
   "execution_count": 1,
   "metadata": {},
   "outputs": [],
   "source": [
    "# Dependencies\n",
    "import csv\n",
    "import os"
   ]
  },
  {
   "cell_type": "code",
   "execution_count": 2,
   "metadata": {},
   "outputs": [],
   "source": [
    "# Files to load and output (update with correct file paths)\n",
    "file_to_load = os.path.join(\"Resources\", \"budget_data.csv\")  # Input file path\n",
    "file_to_output = os.path.join(\"analysis\", \"budget_analysis.txt\")  # Output file path"
   ]
  },
  {
   "cell_type": "code",
   "execution_count": 138,
   "metadata": {},
   "outputs": [],
   "source": [
    "# Define variables to track the financial data\n",
    "total_months = 0\n",
    "total_net = 0\n",
    "# To track Greatest Increase\n",
    "Greatest_increase = float(\"-inf\")\n",
    "# To Store the date of the greatest increase\n",
    "Greatest_increase_date = None\n",
    "# To Store previous value\n",
    "previous_value = None\n",
    "# To track Greatest Decrease\n",
    "Greatest_decrease = float(\"inf\")\n",
    "# To Store the Greatest Decrease Date\n",
    "Greatest_decrease_date = None\n",
    "# List to store change values\n",
    "Net_changes = []\n"
   ]
  },
  {
   "cell_type": "code",
   "execution_count": 139,
   "metadata": {},
   "outputs": [
    {
     "name": "stdout",
     "output_type": "stream",
     "text": [
      "22564198.0\n",
      "86\n",
      "1862002.0\n",
      "Aug-16\n",
      "-1825558.0\n",
      "Feb-14\n",
      "-8311.105882352942\n"
     ]
    }
   ],
   "source": [
    "# Open and read the csv\n",
    "with open(file_to_load) as financial_data:\n",
    "    reader = csv.reader(financial_data)\n",
    "    \n",
    "    # Skip the header row\n",
    "    header = next(reader)\n",
    "    \n",
    "    # Extract first row to avoid appending to net_change_list\n",
    "    first_row = next(reader)\n",
    "    \n",
    "    #Converting Value to float\n",
    "    previous_value = float(first_row[1])\n",
    "\n",
    "    #Adding First Value to Net Total\n",
    "    total_net += previous_value\n",
    "\n",
    "    # Process each row of data\n",
    "    for row in reader:\n",
    "        # Creating a List of the Dates\n",
    "        Dates = row[0]\n",
    "\n",
    "        # Track the total Months\n",
    "        \n",
    "        #Getting the Months by spliting with \"-\"\n",
    "        Month_split = row[0].strip().split(\"-\")[0]\n",
    "        #Adding to  total months counter\n",
    "        total_months += 1\n",
    "        # Adding +1 as the first row was extracted\n",
    "        Final_total_months = total_months + 1\n",
    "\n",
    "        # Converting values to float \n",
    "        profit_losses = float(row[1])\n",
    "        # Track the total\n",
    "        total_net += profit_losses \n",
    "\n",
    "        # Calculating the number of changes from every month\n",
    "        if previous_value is not None:\n",
    "            # Calculating the Change from month to month\n",
    "            change =  profit_losses - previous_value\n",
    "            # Storing change values in list\n",
    "            Net_changes.append(change)\n",
    "            \n",
    "        # Calculate the greatest increase in profits (month and amount)\n",
    "            #Checking if the current change value is greater then the current recorded Greatest Increase\n",
    "            if change > Greatest_increase:\n",
    "                #Update Greatest Increase value\n",
    "                Greatest_increase = change\n",
    "                # Capturing the date of the increase\n",
    "                Greatest_increase_date = Dates\n",
    "\n",
    "        # Calculate the greatest decrease in losses (month and amount)\n",
    "            #Checking if the current change value is less then the current recorded Greatest decrease\n",
    "            if change < Greatest_decrease:\n",
    "                # Update Greatest Decrease Value\n",
    "                Greatest_decrease = change\n",
    "                # Capturing the date of the decrease\n",
    "                Greatest_decrease_date = Dates\n",
    "      \n",
    "        # Updating the previous value\n",
    "        previous_value = profit_losses\n",
    "\n",
    "print(total_net)\n",
    "print(Final_total_months)\n",
    "print(Greatest_increase)\n",
    "print(Greatest_increase_date)\n",
    "print(Greatest_decrease)\n",
    "print(Greatest_decrease_date)\n",
    "# Calculate the average net change across the months\n",
    "average_change = sum(Net_changes)/len(Net_changes)\n",
    "print(average_change)\n",
    "\n",
    "\n",
    "    "
   ]
  },
  {
   "cell_type": "code",
   "execution_count": 141,
   "metadata": {},
   "outputs": [
    {
     "name": "stdout",
     "output_type": "stream",
     "text": [
      "Fincanial Analysis\n",
      "-------------------------\n",
      "Total Months: 86\n",
      "Total: $22564198\n",
      "Average Change: $-8311.11\n",
      "Greatest Increase in Profits: Aug-16 ($1862002)\n",
      "Greatest Decrease in Profits: Feb-14 ($-1825558)\n"
     ]
    }
   ],
   "source": [
    "# Generate the output summary/Print outputs\n",
    "print(\"Fincanial Analysis\")\n",
    "print(\"-------------------------\")\n",
    "print(f\"Total Months: {Final_total_months}\")\n",
    "print(f\"Total: ${total_net:.0f}\")\n",
    "print(f\"Average Change: ${average_change:.2f}\")\n",
    "print(f\"Greatest Increase in Profits: {Greatest_increase_date} (${Greatest_increase:.0f})\")\n",
    "print(f\"Greatest Decrease in Profits: {Greatest_decrease_date} (${Greatest_decrease:.0f})\")\n"
   ]
  },
  {
   "cell_type": "code",
   "execution_count": 144,
   "metadata": {},
   "outputs": [],
   "source": [
    "# Write the results to a text file\n",
    "with open(file_to_output, \"w\") as txt_file:\n",
    "    txt_file.write(\"Fincanial Analysis\\n\")\n",
    "    txt_file.write(\"-------------------------\\n\")\n",
    "    txt_file.write(f\"Total Months: {Final_total_months}\\n\")\n",
    "    txt_file.write(f\"Total: ${total_net:.0f}\\n\")\n",
    "    txt_file.write(f\"Average Change: ${average_change:.2f}\\n\")\n",
    "    txt_file.write(f\"Greatest Increase in Profits: {Greatest_increase_date} (${Greatest_increase:.0f})\\n\")\n",
    "    txt_file.write(f\"Greatest Decrease in Profits: {Greatest_decrease_date} (${Greatest_decrease:.0f})\\n\")\n",
    "\n",
    "    \n"
   ]
  },
  {
   "cell_type": "code",
   "execution_count": 127,
   "metadata": {},
   "outputs": [
    {
     "name": "stdout",
     "output_type": "stream",
     "text": [
      "22564198.0\n",
      "86\n",
      "1862002.0\n",
      "Aug-16\n",
      "-1825558.0\n",
      "Feb-14\n",
      "260960.69411764707\n"
     ]
    }
   ],
   "source": [
    "# Open and read the csv\n",
    "with open(file_to_load) as financial_data:\n",
    "    reader = csv.reader(financial_data)\n",
    "    # Skip the header row\n",
    "    header = next(reader)\n",
    "    # Extract first row to avoid appending to net_change_list\n",
    "    first_row = next(reader)\n",
    "    previous_value = float(first_row[1])\n",
    "    total_net += previous_value\n",
    "    # Process each row of data\n",
    "    for row in reader:\n",
    "        Dates = row[0]\n",
    "        # Track the total\n",
    "        #Making sure the cell/column is not empty\n",
    "        \n",
    "            #Getting the Months by spliting with \"-\"\n",
    "        Month_split = row[0].strip().split(\"-\")[0]\n",
    "            #Adding to our total months counter\n",
    "        total_months += 1\n",
    "        \n",
    "        Final_total_months = total_months + 1\n",
    "\n",
    "\n",
    "\n",
    "        # Track the net change\n",
    "        profit_losses = float(row[1])\n",
    "  \n",
    "        total_net += profit_losses \n",
    "\n",
    "\n",
    "        # Tracking the number if changes \n",
    "        if previous_value is not None:\n",
    "            Total_Number_changes += 1\n",
    "        # Calculate the greatest increase in profits (month and amount)\n",
    "        increase = profit_losses - previous_value\n",
    "        if increase > Greatest_increase:\n",
    "            Greatest_increase = increase\n",
    "            Greatest_increase_date = Dates\n",
    "        \n",
    "\n",
    "        # Calculate the greatest decrease in losses (month and amount)\n",
    "        if increase < Greatest_decrease:\n",
    "            Greatest_decrease = increase\n",
    "            Greatest_decrease_date = Dates\n",
    "\n",
    "        previous_value = profit_losses\n",
    "\n",
    "print(total_net)\n",
    "print(Final_total_months)\n",
    "print(Greatest_increase)\n",
    "print(Greatest_increase_date)\n",
    "print(Greatest_decrease)\n",
    "print(Greatest_decrease_date)\n",
    "# Calculate the average net change across the months\n",
    "average_change = (total_net - previous_value) / Total_Number_changes\n",
    "print(average_change)\n",
    "\n",
    "# Generate the output summary\n",
    "    "
   ]
  }
 ],
 "metadata": {
  "kernelspec": {
   "display_name": "Python 3",
   "language": "python",
   "name": "python3"
  },
  "language_info": {
   "codemirror_mode": {
    "name": "ipython",
    "version": 3
   },
   "file_extension": ".py",
   "mimetype": "text/x-python",
   "name": "python",
   "nbconvert_exporter": "python",
   "pygments_lexer": "ipython3",
   "version": "3.11.9"
  }
 },
 "nbformat": 4,
 "nbformat_minor": 2
}
